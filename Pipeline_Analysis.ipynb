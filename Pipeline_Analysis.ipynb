{
 "cells": [
  {
   "cell_type": "code",
   "execution_count": 1,
   "id": "25c28ce4",
   "metadata": {},
   "outputs": [],
   "source": [
    "import pandas as pandas\n",
    "from bs4 import BeautifulSoup\n",
    "import requests\n"
   ]
  },
  {
   "cell_type": "markdown",
   "id": "01456d08",
   "metadata": {},
   "source": [
    "#### EXTRACTION PROCESS BY WEBSCRAPPING\n",
    "\n",
    "* Scrape all quotes across all pages with pagination\n",
    "* Use requests and BeautifulSoup to extract: Quote text, Author name, Tags as a list or comma-separated string."
   ]
  },
  {
   "cell_type": "code",
   "execution_count": 2,
   "id": "1ec7d61f",
   "metadata": {},
   "outputs": [],
   "source": [
    "url = \"https://quotes.toscrape.com/\"\n",
    "response = requests.get(url)"
   ]
  },
  {
   "cell_type": "code",
   "execution_count": 3,
   "id": "afbacf62",
   "metadata": {},
   "outputs": [
    {
     "name": "stdout",
     "output_type": "stream",
     "text": [
      "Quotes to Scrape\n"
     ]
    }
   ],
   "source": [
    "# html\n",
    "soup = BeautifulSoup(response.text, \"html.parser\")\n",
    "\n",
    "print(soup.title.string) "
   ]
  },
  {
   "cell_type": "code",
   "execution_count": 4,
   "id": "951e2fb0",
   "metadata": {},
   "outputs": [
    {
     "name": "stdout",
     "output_type": "stream",
     "text": [
      "Quotes found on page 1: 10\n"
     ]
    }
   ],
   "source": [
    "# Extracting quote block container\n",
    "quote_blocks = soup.find_all(\"div\", class_=\"quote\")\n",
    "\n",
    "# Print how many quotes were found on the first page\n",
    "print(f\"Quotes found on page 1: {len(quote_blocks)}\")"
   ]
  },
  {
   "cell_type": "code",
   "execution_count": 5,
   "id": "df17a3f4",
   "metadata": {},
   "outputs": [
    {
     "name": "stdout",
     "output_type": "stream",
     "text": [
      "Quote 1\n",
      "Text: “The world as we have created it is a process of our thinking. It cannot be changed without changing our thinking.”\n",
      "Author: Albert Einstein\n",
      "Tags: ['change', 'deep-thoughts', 'thinking', 'world']\n",
      "------\n",
      "Quote 2\n",
      "Text: “It is our choices, Harry, that show what we truly are, far more than our abilities.”\n",
      "Author: J.K. Rowling\n",
      "Tags: ['abilities', 'choices']\n",
      "------\n",
      "Quote 3\n",
      "Text: “There are only two ways to live your life. One is as though nothing is a miracle. The other is as though everything is a miracle.”\n",
      "Author: Albert Einstein\n",
      "Tags: ['inspirational', 'life', 'live', 'miracle', 'miracles']\n",
      "------\n",
      "Quote 4\n",
      "Text: “The person, be it gentleman or lady, who has not pleasure in a good novel, must be intolerably stupid.”\n",
      "Author: Jane Austen\n",
      "Tags: ['aliteracy', 'books', 'classic', 'humor']\n",
      "------\n",
      "Quote 5\n",
      "Text: “Imperfection is beauty, madness is genius and it's better to be absolutely ridiculous than absolutely boring.”\n",
      "Author: Marilyn Monroe\n",
      "Tags: ['be-yourself', 'inspirational']\n",
      "------\n",
      "Quote 6\n",
      "Text: “Try not to become a man of success. Rather become a man of value.”\n",
      "Author: Albert Einstein\n",
      "Tags: ['adulthood', 'success', 'value']\n",
      "------\n",
      "Quote 7\n",
      "Text: “It is better to be hated for what you are than to be loved for what you are not.”\n",
      "Author: André Gide\n",
      "Tags: ['life', 'love']\n",
      "------\n",
      "Quote 8\n",
      "Text: “I have not failed. I've just found 10,000 ways that won't work.”\n",
      "Author: Thomas A. Edison\n",
      "Tags: ['edison', 'failure', 'inspirational', 'paraphrased']\n",
      "------\n",
      "Quote 9\n",
      "Text: “A woman is like a tea bag; you never know how strong it is until it's in hot water.”\n",
      "Author: Eleanor Roosevelt\n",
      "Tags: ['misattributed-eleanor-roosevelt']\n",
      "------\n",
      "Quote 10\n",
      "Text: “A day without sunshine is like, you know, night.”\n",
      "Author: Steve Martin\n",
      "Tags: ['humor', 'obvious', 'simile']\n",
      "------\n"
     ]
    }
   ],
   "source": [
    "# Extracting quotes from first page\n",
    "page_quotes = []\n",
    "\n",
    "for i, quote in enumerate(quote_blocks, start=1):\n",
    "    text = quote.find(\"span\", class_=\"text\").get_text(strip=True)\n",
    "    author = quote.find(\"small\", class_=\"author\").get_text(strip=True)\n",
    "    tags = [tag.get_text(strip=True) for tag in quote.find_all(\"a\", class_=\"tag\")]\n",
    "\n",
    "    print(f\"Quote {i}\")\n",
    "    print(f\"Text: {text}\")\n",
    "    print(f\"Author: {author}\")\n",
    "    print(f\"Tags: {tags}\")\n",
    "    print(\"------\")\n",
    "\n",
    "    page_quotes.append({\n",
    "        \"text\": text,\n",
    "        \"author\": author,\n",
    "        \"tags\": tags\n",
    "    })\n"
   ]
  },
  {
   "cell_type": "code",
   "execution_count": 6,
   "id": "be28ba08",
   "metadata": {},
   "outputs": [
    {
     "name": "stdout",
     "output_type": "stream",
     "text": [
      "Next page path: /page/2/\n"
     ]
    }
   ],
   "source": [
    "# Get the URL for the next page if it exists after the second page\n",
    "next_btn = soup.find(\"li\", class_=\"next\")\n",
    "\n",
    "if next_btn:\n",
    "    next_page = next_btn.find(\"a\")[\"href\"]\n",
    "    print(f\"Next page path: {next_page}\")\n",
    "else:\n",
    "    next_page = None\n",
    "    print(\"No more pages.\")"
   ]
  },
  {
   "cell_type": "code",
   "execution_count": 7,
   "id": "5d5e3255",
   "metadata": {},
   "outputs": [],
   "source": [
    "\n",
    "# Loading the second page using the path just extracted\n",
    "response = requests.get(url + next_page)\n",
    "soup = BeautifulSoup(response.text, \"html.parser\")"
   ]
  },
  {
   "cell_type": "code",
   "execution_count": 8,
   "id": "18dddd12",
   "metadata": {},
   "outputs": [
    {
     "name": "stdout",
     "output_type": "stream",
     "text": [
      "Quotes found on page 2: 10\n"
     ]
    }
   ],
   "source": [
    "# Extract quote blocks from page 2\n",
    "quote_blocks = soup.find_all(\"div\", class_=\"quote\")\n",
    "\n",
    "print(f\"Quotes found on page 2: {len(quote_blocks)}\")"
   ]
  },
  {
   "cell_type": "code",
   "execution_count": 9,
   "id": "df61353c",
   "metadata": {},
   "outputs": [
    {
     "name": "stdout",
     "output_type": "stream",
     "text": [
      "Quote 1\n",
      "Text: “This life is what you make it. No matter what, you're going to mess up sometimes, it's a universal truth. But the good part is you get to decide how you're going to mess it up. Girls will be your friends - they'll act like it anyway. But just remember, some come, some go. The ones that stay with you through everything - they're your true best friends. Don't let go of them. Also remember, sisters make the best friends in the world. As for lovers, well, they'll come and go too. And baby, I hate to say it, most of them - actually pretty much all of them are going to break your heart, but you can't give up because if you give up, you'll never find your soulmate. You'll never find that half who makes you whole and that goes for everything. Just because you fail once, doesn't mean you're gonna fail at everything. Keep trying, hold on, and always, always, always believe in yourself, because if you don't, then who will, sweetie? So keep your head high, keep your chin up, and most importantly, keep smiling, because life's a beautiful thing and there's so much to smile about.”\n",
      "Author: Marilyn Monroe\n",
      "Tags: ['friends', 'heartbreak', 'inspirational', 'life', 'love', 'sisters']\n",
      "------\n",
      "Quote 2\n",
      "Text: “It takes a great deal of bravery to stand up to our enemies, but just as much to stand up to our friends.”\n",
      "Author: J.K. Rowling\n",
      "Tags: ['courage', 'friends']\n",
      "------\n",
      "Quote 3\n",
      "Text: “If you can't explain it to a six year old, you don't understand it yourself.”\n",
      "Author: Albert Einstein\n",
      "Tags: ['simplicity', 'understand']\n",
      "------\n",
      "Quote 4\n",
      "Text: “You may not be her first, her last, or her only. She loved before she may love again. But if she loves you now, what else matters? She's not perfect—you aren't either, and the two of you may never be perfect together but if she can make you laugh, cause you to think twice, and admit to being human and making mistakes, hold onto her and give her the most you can. She may not be thinking about you every second of the day, but she will give you a part of her that she knows you can break—her heart. So don't hurt her, don't change her, don't analyze and don't expect more than she can give. Smile when she makes you happy, let her know when she makes you mad, and miss her when she's not there.”\n",
      "Author: Bob Marley\n",
      "Tags: ['love']\n",
      "------\n",
      "Quote 5\n",
      "Text: “I like nonsense, it wakes up the brain cells. Fantasy is a necessary ingredient in living.”\n",
      "Author: Dr. Seuss\n",
      "Tags: ['fantasy']\n",
      "------\n",
      "Quote 6\n",
      "Text: “I may not have gone where I intended to go, but I think I have ended up where I needed to be.”\n",
      "Author: Douglas Adams\n",
      "Tags: ['life', 'navigation']\n",
      "------\n",
      "Quote 7\n",
      "Text: “The opposite of love is not hate, it's indifference. The opposite of art is not ugliness, it's indifference. The opposite of faith is not heresy, it's indifference. And the opposite of life is not death, it's indifference.”\n",
      "Author: Elie Wiesel\n",
      "Tags: ['activism', 'apathy', 'hate', 'indifference', 'inspirational', 'love', 'opposite', 'philosophy']\n",
      "------\n",
      "Quote 8\n",
      "Text: “It is not a lack of love, but a lack of friendship that makes unhappy marriages.”\n",
      "Author: Friedrich Nietzsche\n",
      "Tags: ['friendship', 'lack-of-friendship', 'lack-of-love', 'love', 'marriage', 'unhappy-marriage']\n",
      "------\n",
      "Quote 9\n",
      "Text: “Good friends, good books, and a sleepy conscience: this is the ideal life.”\n",
      "Author: Mark Twain\n",
      "Tags: ['books', 'contentment', 'friends', 'friendship', 'life']\n",
      "------\n",
      "Quote 10\n",
      "Text: “Life is what happens to us while we are making other plans.”\n",
      "Author: Allen Saunders\n",
      "Tags: ['fate', 'life', 'misattributed-john-lennon', 'planning', 'plans']\n",
      "------\n"
     ]
    }
   ],
   "source": [
    "# Extracting quotes from second page\n",
    "page_quotes2 = []\n",
    "\n",
    "for i, quote in enumerate(quote_blocks, start=1):\n",
    "    text = quote.find(\"span\", class_=\"text\").get_text(strip=True)\n",
    "    author = quote.find(\"small\", class_=\"author\").get_text(strip=True)\n",
    "    tags = [tag.get_text(strip=True) for tag in quote.find_all(\"a\", class_=\"tag\")]\n",
    "\n",
    "    print(f\"Quote {i}\")\n",
    "    print(f\"Text: {text}\")\n",
    "    print(f\"Author: {author}\")\n",
    "    print(f\"Tags: {tags}\")\n",
    "    print(\"------\")\n",
    "\n",
    "    page_quotes2.append({\n",
    "        \"text\": text,\n",
    "        \"author\": author,\n",
    "        \"tags\": tags\n",
    "    })"
   ]
  },
  {
   "cell_type": "code",
   "execution_count": 10,
   "id": "86ec7bcd",
   "metadata": {},
   "outputs": [
    {
     "name": "stdout",
     "output_type": "stream",
     "text": [
      "Next page path: /page/3/\n"
     ]
    }
   ],
   "source": [
    "# Get the URL for the next page if it exists after the third page\n",
    "next_btn = soup.find(\"li\", class_=\"next\")\n",
    "\n",
    "if next_btn:\n",
    "    next_page = next_btn.find(\"a\")[\"href\"]\n",
    "    print(f\"Next page path: {next_page}\")\n",
    "else:\n",
    "    next_page = None\n",
    "    print(\"No more pages.\")"
   ]
  },
  {
   "cell_type": "code",
   "execution_count": 11,
   "id": "0b426804",
   "metadata": {},
   "outputs": [],
   "source": [
    "# Loading the second page using the path just extracted\n",
    "response = requests.get(url + next_page)\n",
    "soup = BeautifulSoup(response.text, \"html.parser\")"
   ]
  },
  {
   "cell_type": "code",
   "execution_count": 12,
   "id": "8a815cd3",
   "metadata": {},
   "outputs": [
    {
     "name": "stdout",
     "output_type": "stream",
     "text": [
      "Quotes found on page 3: 10\n"
     ]
    }
   ],
   "source": [
    "# Extract quote blocks from page 3\n",
    "quote_blocks = soup.find_all(\"div\", class_=\"quote\")\n",
    "\n",
    "print(f\"Quotes found on page 3: {len(quote_blocks)}\")"
   ]
  },
  {
   "cell_type": "code",
   "execution_count": 13,
   "id": "bc1ca46a",
   "metadata": {},
   "outputs": [
    {
     "name": "stdout",
     "output_type": "stream",
     "text": [
      "Quote 1\n",
      "Text: “I love you without knowing how, or when, or from where. I love you simply, without problems or pride: I love you in this way because I do not know any other way of loving but this, in which there is no I or you, so intimate that your hand upon my chest is my hand, so intimate that when I fall asleep your eyes close.”\n",
      "Author: Pablo Neruda\n",
      "Tags: ['love', 'poetry']\n",
      "------\n",
      "Quote 2\n",
      "Text: “For every minute you are angry you lose sixty seconds of happiness.”\n",
      "Author: Ralph Waldo Emerson\n",
      "Tags: ['happiness']\n",
      "------\n",
      "Quote 3\n",
      "Text: “If you judge people, you have no time to love them.”\n",
      "Author: Mother Teresa\n",
      "Tags: ['attributed-no-source']\n",
      "------\n",
      "Quote 4\n",
      "Text: “Anyone who thinks sitting in church can make you a Christian must also think that sitting in a garage can make you a car.”\n",
      "Author: Garrison Keillor\n",
      "Tags: ['humor', 'religion']\n",
      "------\n",
      "Quote 5\n",
      "Text: “Beauty is in the eye of the beholder and it may be necessary from time to time to give a stupid or misinformed beholder a black eye.”\n",
      "Author: Jim Henson\n",
      "Tags: ['humor']\n",
      "------\n",
      "Quote 6\n",
      "Text: “Today you are You, that is truer than true. There is no one alive who is Youer than You.”\n",
      "Author: Dr. Seuss\n",
      "Tags: ['comedy', 'life', 'yourself']\n",
      "------\n",
      "Quote 7\n",
      "Text: “If you want your children to be intelligent, read them fairy tales. If you want them to be more intelligent, read them more fairy tales.”\n",
      "Author: Albert Einstein\n",
      "Tags: ['children', 'fairy-tales']\n",
      "------\n",
      "Quote 8\n",
      "Text: “It is impossible to live without failing at something, unless you live so cautiously that you might as well not have lived at all - in which case, you fail by default.”\n",
      "Author: J.K. Rowling\n",
      "Tags: []\n",
      "------\n",
      "Quote 9\n",
      "Text: “Logic will get you from A to Z; imagination will get you everywhere.”\n",
      "Author: Albert Einstein\n",
      "Tags: ['imagination']\n",
      "------\n",
      "Quote 10\n",
      "Text: “One good thing about music, when it hits you, you feel no pain.”\n",
      "Author: Bob Marley\n",
      "Tags: ['music']\n",
      "------\n"
     ]
    }
   ],
   "source": [
    "page_quotes3 = []\n",
    "\n",
    "for i, quote in enumerate(quote_blocks, start=1):\n",
    "    text = quote.find(\"span\", class_=\"text\").get_text(strip=True)\n",
    "    author = quote.find(\"small\", class_=\"author\").get_text(strip=True)\n",
    "    tags = [tag.get_text(strip=True) for tag in quote.find_all(\"a\", class_=\"tag\")]\n",
    "\n",
    "    print(f\"Quote {i}\")\n",
    "    print(f\"Text: {text}\")\n",
    "    print(f\"Author: {author}\")\n",
    "    print(f\"Tags: {tags}\")\n",
    "    print(\"------\")\n",
    "\n",
    "    page_quotes3.append({\n",
    "        \"text\": text,\n",
    "        \"author\": author,\n",
    "        \"tags\": tags\n",
    "    })\n"
   ]
  },
  {
   "cell_type": "code",
   "execution_count": 14,
   "id": "dffc26c4",
   "metadata": {},
   "outputs": [
    {
     "name": "stdout",
     "output_type": "stream",
     "text": [
      "Next page path: /page/4/\n"
     ]
    }
   ],
   "source": [
    "# Get the URL for the next page if it exists after the fourth page\n",
    "next_btn = soup.find(\"li\", class_=\"next\")\n",
    "\n",
    "if next_btn:\n",
    "    next_page = next_btn.find(\"a\")[\"href\"]\n",
    "    print(f\"Next page path: {next_page}\")\n",
    "else:\n",
    "    next_page = None\n",
    "    print(\"No more pages.\")"
   ]
  },
  {
   "cell_type": "code",
   "execution_count": 15,
   "id": "0b44c2c3",
   "metadata": {},
   "outputs": [],
   "source": [
    "# Loading the second page using the path just extracted\n",
    "response = requests.get(url + next_page)\n",
    "soup = BeautifulSoup(response.text, \"html.parser\")"
   ]
  },
  {
   "cell_type": "code",
   "execution_count": 16,
   "id": "4ba17d5d",
   "metadata": {},
   "outputs": [
    {
     "name": "stdout",
     "output_type": "stream",
     "text": [
      "Quotes found on page 4: 10\n"
     ]
    }
   ],
   "source": [
    "# Extract quote blocks from page 4\n",
    "quote_blocks = soup.find_all(\"div\", class_=\"quote\")\n",
    "\n",
    "print(f\"Quotes found on page 4: {len(quote_blocks)}\")"
   ]
  },
  {
   "cell_type": "code",
   "execution_count": 17,
   "id": "cac48dc1",
   "metadata": {},
   "outputs": [
    {
     "name": "stdout",
     "output_type": "stream",
     "text": [
      "Quote 1\n",
      "Text: “The more that you read, the more things you will know. The more that you learn, the more places you'll go.”\n",
      "Author: Dr. Seuss\n",
      "Tags: ['learning', 'reading', 'seuss']\n",
      "------\n",
      "Quote 2\n",
      "Text: “Of course it is happening inside your head, Harry, but why on earth should that mean that it is not real?”\n",
      "Author: J.K. Rowling\n",
      "Tags: ['dumbledore']\n",
      "------\n",
      "Quote 3\n",
      "Text: “The truth is, everyone is going to hurt you. You just got to find the ones worth suffering for.”\n",
      "Author: Bob Marley\n",
      "Tags: ['friendship']\n",
      "------\n",
      "Quote 4\n",
      "Text: “Not all of us can do great things. But we can do small things with great love.”\n",
      "Author: Mother Teresa\n",
      "Tags: ['misattributed-to-mother-teresa', 'paraphrased']\n",
      "------\n",
      "Quote 5\n",
      "Text: “To the well-organized mind, death is but the next great adventure.”\n",
      "Author: J.K. Rowling\n",
      "Tags: ['death', 'inspirational']\n",
      "------\n",
      "Quote 6\n",
      "Text: “All you need is love. But a little chocolate now and then doesn't hurt.”\n",
      "Author: Charles M. Schulz\n",
      "Tags: ['chocolate', 'food', 'humor']\n",
      "------\n",
      "Quote 7\n",
      "Text: “We read to know we're not alone.”\n",
      "Author: William Nicholson\n",
      "Tags: ['misattributed-to-c-s-lewis', 'reading']\n",
      "------\n",
      "Quote 8\n",
      "Text: “Any fool can know. The point is to understand.”\n",
      "Author: Albert Einstein\n",
      "Tags: ['knowledge', 'learning', 'understanding', 'wisdom']\n",
      "------\n",
      "Quote 9\n",
      "Text: “I have always imagined that Paradise will be a kind of library.”\n",
      "Author: Jorge Luis Borges\n",
      "Tags: ['books', 'library']\n",
      "------\n",
      "Quote 10\n",
      "Text: “It is never too late to be what you might have been.”\n",
      "Author: George Eliot\n",
      "Tags: ['inspirational']\n",
      "------\n"
     ]
    }
   ],
   "source": [
    "page_quotes4 = []\n",
    "\n",
    "for i, quote in enumerate(quote_blocks, start=1):\n",
    "    text = quote.find(\"span\", class_=\"text\").get_text(strip=True)\n",
    "    author = quote.find(\"small\", class_=\"author\").get_text(strip=True)\n",
    "    tags = [tag.get_text(strip=True) for tag in quote.find_all(\"a\", class_=\"tag\")]\n",
    "\n",
    "    print(f\"Quote {i}\")\n",
    "    print(f\"Text: {text}\")\n",
    "    print(f\"Author: {author}\")\n",
    "    print(f\"Tags: {tags}\")\n",
    "    print(\"------\")\n",
    "\n",
    "    page_quotes4.append({\n",
    "        \"text\": text,\n",
    "        \"author\": author,\n",
    "        \"tags\": tags\n",
    "    })"
   ]
  },
  {
   "cell_type": "code",
   "execution_count": 18,
   "id": "22935c9e",
   "metadata": {},
   "outputs": [
    {
     "name": "stdout",
     "output_type": "stream",
     "text": [
      "Next page path: /page/5/\n"
     ]
    }
   ],
   "source": [
    "# Get the URL for the next page if it exists after the fifth page\n",
    "next_btn = soup.find(\"li\", class_=\"next\")\n",
    "\n",
    "if next_btn:\n",
    "    next_page = next_btn.find(\"a\")[\"href\"]\n",
    "    print(f\"Next page path: {next_page}\")\n",
    "else:\n",
    "    next_page = None\n",
    "    print(\"No more pages.\")"
   ]
  },
  {
   "cell_type": "code",
   "execution_count": 19,
   "id": "97b5985c",
   "metadata": {},
   "outputs": [],
   "source": [
    "# Loading the second page using the path just extracted\n",
    "response = requests.get(url + next_page)\n",
    "soup = BeautifulSoup(response.text, \"html.parser\")"
   ]
  },
  {
   "cell_type": "code",
   "execution_count": 20,
   "id": "cc08eeb9",
   "metadata": {},
   "outputs": [
    {
     "name": "stdout",
     "output_type": "stream",
     "text": [
      "Quotes found on page 5: 10\n"
     ]
    }
   ],
   "source": [
    "# Extract quote blocks from page 5\n",
    "quote_blocks = soup.find_all(\"div\", class_=\"quote\")\n",
    "\n",
    "print(f\"Quotes found on page 5: {len(quote_blocks)}\")"
   ]
  },
  {
   "cell_type": "code",
   "execution_count": 21,
   "id": "2be44938",
   "metadata": {},
   "outputs": [
    {
     "name": "stdout",
     "output_type": "stream",
     "text": [
      "Quote 1\n",
      "Text: “A reader lives a thousand lives before he dies, said Jojen. The man who never reads lives only one.”\n",
      "Author: George R.R. Martin\n",
      "Tags: ['read', 'readers', 'reading', 'reading-books']\n",
      "------\n",
      "Quote 2\n",
      "Text: “You can never get a cup of tea large enough or a book long enough to suit me.”\n",
      "Author: C.S. Lewis\n",
      "Tags: ['books', 'inspirational', 'reading', 'tea']\n",
      "------\n",
      "Quote 3\n",
      "Text: “You believe lies so you eventually learn to trust no one but yourself.”\n",
      "Author: Marilyn Monroe\n",
      "Tags: []\n",
      "------\n",
      "Quote 4\n",
      "Text: “If you can make a woman laugh, you can make her do anything.”\n",
      "Author: Marilyn Monroe\n",
      "Tags: ['girls', 'love']\n",
      "------\n",
      "Quote 5\n",
      "Text: “Life is like riding a bicycle. To keep your balance, you must keep moving.”\n",
      "Author: Albert Einstein\n",
      "Tags: ['life', 'simile']\n",
      "------\n",
      "Quote 6\n",
      "Text: “The real lover is the man who can thrill you by kissing your forehead or smiling into your eyes or just staring into space.”\n",
      "Author: Marilyn Monroe\n",
      "Tags: ['love']\n",
      "------\n",
      "Quote 7\n",
      "Text: “A wise girl kisses but doesn't love, listens but doesn't believe, and leaves before she is left.”\n",
      "Author: Marilyn Monroe\n",
      "Tags: ['attributed-no-source']\n",
      "------\n",
      "Quote 8\n",
      "Text: “Only in the darkness can you see the stars.”\n",
      "Author: Martin Luther King Jr.\n",
      "Tags: ['hope', 'inspirational']\n",
      "------\n",
      "Quote 9\n",
      "Text: “It matters not what someone is born, but what they grow to be.”\n",
      "Author: J.K. Rowling\n",
      "Tags: ['dumbledore']\n",
      "------\n",
      "Quote 10\n",
      "Text: “Love does not begin and end the way we seem to think it does. Love is a battle, love is a war; love is a growing up.”\n",
      "Author: James Baldwin\n",
      "Tags: ['love']\n",
      "------\n"
     ]
    }
   ],
   "source": [
    "page_quotes5 = []\n",
    "\n",
    "for i, quote in enumerate(quote_blocks, start=1):\n",
    "    text = quote.find(\"span\", class_=\"text\").get_text(strip=True)\n",
    "    author = quote.find(\"small\", class_=\"author\").get_text(strip=True)\n",
    "    tags = [tag.get_text(strip=True) for tag in quote.find_all(\"a\", class_=\"tag\")]\n",
    "\n",
    "    print(f\"Quote {i}\")\n",
    "    print(f\"Text: {text}\")\n",
    "    print(f\"Author: {author}\")\n",
    "    print(f\"Tags: {tags}\")\n",
    "    print(\"------\")\n",
    "\n",
    "    page_quotes5.append({\n",
    "        \"text\": text,\n",
    "        \"author\": author,\n",
    "        \"tags\": tags\n",
    "    })"
   ]
  },
  {
   "cell_type": "code",
   "execution_count": 22,
   "id": "c3779c77",
   "metadata": {},
   "outputs": [
    {
     "name": "stdout",
     "output_type": "stream",
     "text": [
      "Next page path: /page/6/\n"
     ]
    }
   ],
   "source": [
    "# Get the URL for the next page if it exists after the fifth page\n",
    "next_btn = soup.find(\"li\", class_=\"next\")\n",
    "\n",
    "if next_btn:\n",
    "    next_page = next_btn.find(\"a\")[\"href\"]\n",
    "    print(f\"Next page path: {next_page}\")\n",
    "else:\n",
    "    next_page = None\n",
    "    print(\"No more pages.\")"
   ]
  },
  {
   "cell_type": "code",
   "execution_count": 23,
   "id": "ce17d54f",
   "metadata": {},
   "outputs": [],
   "source": [
    "# Loading the second page using the path just extracted\n",
    "response = requests.get(url + next_page)\n",
    "soup = BeautifulSoup(response.text, \"html.parser\")"
   ]
  },
  {
   "cell_type": "code",
   "execution_count": 24,
   "id": "e219efe1",
   "metadata": {},
   "outputs": [
    {
     "name": "stdout",
     "output_type": "stream",
     "text": [
      "Quotes found on page 6: 10\n"
     ]
    }
   ],
   "source": [
    "# Extract quote blocks from page 6\n",
    "quote_blocks = soup.find_all(\"div\", class_=\"quote\")\n",
    "\n",
    "print(f\"Quotes found on page 6: {len(quote_blocks)}\")"
   ]
  },
  {
   "cell_type": "code",
   "execution_count": 25,
   "id": "a225120c",
   "metadata": {},
   "outputs": [
    {
     "name": "stdout",
     "output_type": "stream",
     "text": [
      "Quote 1\n",
      "Text: “There is nothing I would not do for those who are really my friends. I have no notion of loving people by halves, it is not my nature.”\n",
      "Author: Jane Austen\n",
      "Tags: ['friendship', 'love']\n",
      "------\n",
      "Quote 2\n",
      "Text: “Do one thing every day that scares you.”\n",
      "Author: Eleanor Roosevelt\n",
      "Tags: ['attributed', 'fear', 'inspiration']\n",
      "------\n",
      "Quote 3\n",
      "Text: “I am good, but not an angel. I do sin, but I am not the devil. I am just a small girl in a big world trying to find someone to love.”\n",
      "Author: Marilyn Monroe\n",
      "Tags: ['attributed-no-source']\n",
      "------\n",
      "Quote 4\n",
      "Text: “If I were not a physicist, I would probably be a musician. I often think in music. I live my daydreams in music. I see my life in terms of music.”\n",
      "Author: Albert Einstein\n",
      "Tags: ['music']\n",
      "------\n",
      "Quote 5\n",
      "Text: “If you only read the books that everyone else is reading, you can only think what everyone else is thinking.”\n",
      "Author: Haruki Murakami\n",
      "Tags: ['books', 'thought']\n",
      "------\n",
      "Quote 6\n",
      "Text: “The difference between genius and stupidity is: genius has its limits.”\n",
      "Author: Alexandre Dumas fils\n",
      "Tags: ['misattributed-to-einstein']\n",
      "------\n",
      "Quote 7\n",
      "Text: “He's like a drug for you, Bella.”\n",
      "Author: Stephenie Meyer\n",
      "Tags: ['drug', 'romance', 'simile']\n",
      "------\n",
      "Quote 8\n",
      "Text: “There is no friend as loyal as a book.”\n",
      "Author: Ernest Hemingway\n",
      "Tags: ['books', 'friends', 'novelist-quotes']\n",
      "------\n",
      "Quote 9\n",
      "Text: “When one door of happiness closes, another opens; but often we look so long at the closed door that we do not see the one which has been opened for us.”\n",
      "Author: Helen Keller\n",
      "Tags: ['inspirational']\n",
      "------\n",
      "Quote 10\n",
      "Text: “Life isn't about finding yourself. Life is about creating yourself.”\n",
      "Author: George Bernard Shaw\n",
      "Tags: ['inspirational', 'life', 'yourself']\n",
      "------\n"
     ]
    }
   ],
   "source": [
    "page_quotes6 = []\n",
    "\n",
    "for i, quote in enumerate(quote_blocks, start=1):\n",
    "    text = quote.find(\"span\", class_=\"text\").get_text(strip=True)\n",
    "    author = quote.find(\"small\", class_=\"author\").get_text(strip=True)\n",
    "    tags = [tag.get_text(strip=True) for tag in quote.find_all(\"a\", class_=\"tag\")]\n",
    "\n",
    "    print(f\"Quote {i}\")\n",
    "    print(f\"Text: {text}\")\n",
    "    print(f\"Author: {author}\")\n",
    "    print(f\"Tags: {tags}\")\n",
    "    print(\"------\")\n",
    "\n",
    "    page_quotes6.append({\n",
    "        \"text\": text,\n",
    "        \"author\": author,\n",
    "        \"tags\": tags\n",
    "    })"
   ]
  },
  {
   "cell_type": "code",
   "execution_count": 26,
   "id": "bb593e37",
   "metadata": {},
   "outputs": [
    {
     "name": "stdout",
     "output_type": "stream",
     "text": [
      "Next page path: /page/7/\n"
     ]
    }
   ],
   "source": [
    "next_btn = soup.find(\"li\", class_=\"next\")\n",
    "\n",
    "if next_btn:\n",
    "    next_page = next_btn.find(\"a\")[\"href\"]\n",
    "    print(\"Next page path:\", next_page)\n",
    "else:\n",
    "    next_page = None\n",
    "    print(\"No more pages.\")\n"
   ]
  },
  {
   "cell_type": "code",
   "execution_count": 27,
   "id": "ac9d55f5",
   "metadata": {},
   "outputs": [],
   "source": [
    "# Loading the second page using the path just extracted\n",
    "response = requests.get(url + next_page)\n",
    "soup = BeautifulSoup(response.text, \"html.parser\")"
   ]
  },
  {
   "cell_type": "code",
   "execution_count": 28,
   "id": "51b1e5dd",
   "metadata": {},
   "outputs": [
    {
     "name": "stdout",
     "output_type": "stream",
     "text": [
      "Quotes found on page 7: 10\n"
     ]
    }
   ],
   "source": [
    "# Extract quote blocks from page 7\n",
    "quote_blocks = soup.find_all(\"div\", class_=\"quote\")\n",
    "\n",
    "print(f\"Quotes found on page 7: {len(quote_blocks)}\")"
   ]
  },
  {
   "cell_type": "code",
   "execution_count": 29,
   "id": "ee71b746",
   "metadata": {},
   "outputs": [
    {
     "name": "stdout",
     "output_type": "stream",
     "text": [
      "Quote 1\n",
      "Text: “That's the problem with drinking, I thought, as I poured myself a drink. If something bad happens you drink in an attempt to forget; if something good happens you drink in order to celebrate; and if nothing happens you drink to make something happen.”\n",
      "Author: Charles Bukowski\n",
      "Tags: ['alcohol']\n",
      "------\n",
      "Quote 2\n",
      "Text: “You don’t forget the face of the person who was your last hope.”\n",
      "Author: Suzanne Collins\n",
      "Tags: ['the-hunger-games']\n",
      "------\n",
      "Quote 3\n",
      "Text: “Remember, we're madly in love, so it's all right to kiss me anytime you feel like it.”\n",
      "Author: Suzanne Collins\n",
      "Tags: ['humor']\n",
      "------\n",
      "Quote 4\n",
      "Text: “To love at all is to be vulnerable. Love anything and your heart will be wrung and possibly broken. If you want to make sure of keeping it intact you must give it to no one, not even an animal. Wrap it carefully round with hobbies and little luxuries; avoid all entanglements. Lock it up safe in the casket or coffin of your selfishness. But in that casket, safe, dark, motionless, airless, it will change. It will not be broken; it will become unbreakable, impenetrable, irredeemable. To love is to be vulnerable.”\n",
      "Author: C.S. Lewis\n",
      "Tags: ['love']\n",
      "------\n",
      "Quote 5\n",
      "Text: “Not all those who wander are lost.”\n",
      "Author: J.R.R. Tolkien\n",
      "Tags: ['bilbo', 'journey', 'lost', 'quest', 'travel', 'wander']\n",
      "------\n",
      "Quote 6\n",
      "Text: “Do not pity the dead, Harry. Pity the living, and, above all those who live without love.”\n",
      "Author: J.K. Rowling\n",
      "Tags: ['live-death-love']\n",
      "------\n",
      "Quote 7\n",
      "Text: “There is nothing to writing. All you do is sit down at a typewriter and bleed.”\n",
      "Author: Ernest Hemingway\n",
      "Tags: ['good', 'writing']\n",
      "------\n",
      "Quote 8\n",
      "Text: “Finish each day and be done with it. You have done what you could. Some blunders and absurdities no doubt crept in; forget them as soon as you can. Tomorrow is a new day. You shall begin it serenely and with too high a spirit to be encumbered with your old nonsense.”\n",
      "Author: Ralph Waldo Emerson\n",
      "Tags: ['life', 'regrets']\n",
      "------\n",
      "Quote 9\n",
      "Text: “I have never let my schooling interfere with my education.”\n",
      "Author: Mark Twain\n",
      "Tags: ['education']\n",
      "------\n",
      "Quote 10\n",
      "Text: “I have heard there are troubles of more than one kind. Some come from ahead and some come from behind. But I've bought a big bat. I'm all ready you see. Now my troubles are going to have troubles with me!”\n",
      "Author: Dr. Seuss\n",
      "Tags: ['troubles']\n",
      "------\n"
     ]
    }
   ],
   "source": [
    "page_quotes7 = []\n",
    "\n",
    "for i, quote in enumerate(quote_blocks, start=1):\n",
    "    text = quote.find(\"span\", class_=\"text\").get_text(strip=True)\n",
    "    author = quote.find(\"small\", class_=\"author\").get_text(strip=True)\n",
    "    tags = [tag.get_text(strip=True) for tag in quote.find_all(\"a\", class_=\"tag\")]\n",
    "\n",
    "    print(f\"Quote {i}\")\n",
    "    print(f\"Text: {text}\")\n",
    "    print(f\"Author: {author}\")\n",
    "    print(f\"Tags: {tags}\")\n",
    "    print(\"------\")\n",
    "\n",
    "    page_quotes7.append({\n",
    "        \"text\": text,\n",
    "        \"author\": author,\n",
    "        \"tags\": tags\n",
    "    })\n"
   ]
  },
  {
   "cell_type": "code",
   "execution_count": 30,
   "id": "9e368f04",
   "metadata": {},
   "outputs": [
    {
     "name": "stdout",
     "output_type": "stream",
     "text": [
      "Next page path: /page/8/\n"
     ]
    }
   ],
   "source": [
    "next_btn = soup.find(\"li\", class_=\"next\")\n",
    "\n",
    "if next_btn:\n",
    "    next_page = next_btn.find(\"a\")[\"href\"]\n",
    "    print(\"Next page path:\", next_page)\n",
    "else:\n",
    "    next_page = None\n",
    "    print(\"No more pages.\")"
   ]
  },
  {
   "cell_type": "code",
   "execution_count": 31,
   "id": "962437db",
   "metadata": {},
   "outputs": [],
   "source": [
    "# Loading the second page using the path just extracted\n",
    "response = requests.get(url + next_page)\n",
    "soup = BeautifulSoup(response.text, \"html.parser\")"
   ]
  },
  {
   "cell_type": "code",
   "execution_count": 32,
   "id": "cdbbb168",
   "metadata": {},
   "outputs": [
    {
     "name": "stdout",
     "output_type": "stream",
     "text": [
      "Quotes found on page 8: 10\n"
     ]
    }
   ],
   "source": [
    "# Extract quote blocks from page 8\n",
    "quote_blocks = soup.find_all(\"div\", class_=\"quote\")\n",
    "\n",
    "print(f\"Quotes found on page 8: {len(quote_blocks)}\")"
   ]
  },
  {
   "cell_type": "code",
   "execution_count": 33,
   "id": "49bde935",
   "metadata": {},
   "outputs": [
    {
     "name": "stdout",
     "output_type": "stream",
     "text": [
      "Quote 1\n",
      "Text: “If I had a flower for every time I thought of you...I could walk through my garden forever.”\n",
      "Author: Alfred Tennyson\n",
      "Tags: ['friendship', 'love']\n",
      "------\n",
      "Quote 2\n",
      "Text: “Some people never go crazy. What truly horrible lives they must lead.”\n",
      "Author: Charles Bukowski\n",
      "Tags: ['humor']\n",
      "------\n",
      "Quote 3\n",
      "Text: “The trouble with having an open mind, of course, is that people will insist on coming along and trying to put things in it.”\n",
      "Author: Terry Pratchett\n",
      "Tags: ['humor', 'open-mind', 'thinking']\n",
      "------\n",
      "Quote 4\n",
      "Text: “Think left and think right and think low and think high. Oh, the thinks you can think up if only you try!”\n",
      "Author: Dr. Seuss\n",
      "Tags: ['humor', 'philosophy']\n",
      "------\n",
      "Quote 5\n",
      "Text: “What really knocks me out is a book that, when you're all done reading it, you wish the author that wrote it was a terrific friend of yours and you could call him up on the phone whenever you felt like it. That doesn't happen much, though.”\n",
      "Author: J.D. Salinger\n",
      "Tags: ['authors', 'books', 'literature', 'reading', 'writing']\n",
      "------\n",
      "Quote 6\n",
      "Text: “The reason I talk to myself is because I’m the only one whose answers I accept.”\n",
      "Author: George Carlin\n",
      "Tags: ['humor', 'insanity', 'lies', 'lying', 'self-indulgence', 'truth']\n",
      "------\n",
      "Quote 7\n",
      "Text: “You may say I'm a dreamer, but I'm not the only one. I hope someday you'll join us. And the world will live as one.”\n",
      "Author: John Lennon\n",
      "Tags: ['beatles', 'connection', 'dreamers', 'dreaming', 'dreams', 'hope', 'inspirational', 'peace']\n",
      "------\n",
      "Quote 8\n",
      "Text: “I am free of all prejudice. I hate everyone equally. ”\n",
      "Author: W.C. Fields\n",
      "Tags: ['humor', 'sinister']\n",
      "------\n",
      "Quote 9\n",
      "Text: “The question isn't who is going to let me; it's who is going to stop me.”\n",
      "Author: Ayn Rand\n",
      "Tags: []\n",
      "------\n",
      "Quote 10\n",
      "Text: “′Classic′ - a book which people praise and don't read.”\n",
      "Author: Mark Twain\n",
      "Tags: ['books', 'classic', 'reading']\n",
      "------\n"
     ]
    }
   ],
   "source": [
    "page_quotes8 = []\n",
    "\n",
    "for i, quote in enumerate(quote_blocks, start=1):\n",
    "    text = quote.find(\"span\", class_=\"text\").get_text(strip=True)\n",
    "    author = quote.find(\"small\", class_=\"author\").get_text(strip=True)\n",
    "    tags = [tag.get_text(strip=True) for tag in quote.find_all(\"a\", class_=\"tag\")]\n",
    "\n",
    "    print(f\"Quote {i}\")\n",
    "    print(f\"Text: {text}\")\n",
    "    print(f\"Author: {author}\")\n",
    "    print(f\"Tags: {tags}\")\n",
    "    print(\"------\")\n",
    "\n",
    "    page_quotes8.append({\n",
    "        \"text\": text,\n",
    "        \"author\": author,\n",
    "        \"tags\": tags\n",
    "    })\n"
   ]
  },
  {
   "cell_type": "code",
   "execution_count": 34,
   "id": "7dab7b43",
   "metadata": {},
   "outputs": [
    {
     "name": "stdout",
     "output_type": "stream",
     "text": [
      "Next page path: /page/9/\n"
     ]
    }
   ],
   "source": [
    "next_btn = soup.find(\"li\", class_=\"next\")\n",
    "\n",
    "if next_btn:\n",
    "    next_page = next_btn.find(\"a\")[\"href\"]\n",
    "    print(\"Next page path:\", next_page)\n",
    "else:\n",
    "    next_page = None\n",
    "    print(\"No more pages.\")"
   ]
  },
  {
   "cell_type": "code",
   "execution_count": 35,
   "id": "5c5ef218",
   "metadata": {},
   "outputs": [],
   "source": [
    "# Loading the second page using the path just extracted\n",
    "response = requests.get(url + next_page)\n",
    "soup = BeautifulSoup(response.text, \"html.parser\")"
   ]
  },
  {
   "cell_type": "code",
   "execution_count": 36,
   "id": "4830b983",
   "metadata": {},
   "outputs": [
    {
     "name": "stdout",
     "output_type": "stream",
     "text": [
      "Quotes found on page 9: 10\n"
     ]
    }
   ],
   "source": [
    "# Extract quote blocks from page 9\n",
    "quote_blocks = soup.find_all(\"div\", class_=\"quote\")\n",
    "\n",
    "print(f\"Quotes found on page 9: {len(quote_blocks)}\")"
   ]
  },
  {
   "cell_type": "code",
   "execution_count": 37,
   "id": "2e93221b",
   "metadata": {},
   "outputs": [
    {
     "name": "stdout",
     "output_type": "stream",
     "text": [
      "Quote 1\n",
      "Text: “Anyone who has never made a mistake has never tried anything new.”\n",
      "Author: Albert Einstein\n",
      "Tags: ['mistakes']\n",
      "------\n",
      "Quote 2\n",
      "Text: “A lady's imagination is very rapid; it jumps from admiration to love, from love to matrimony in a moment.”\n",
      "Author: Jane Austen\n",
      "Tags: ['humor', 'love', 'romantic', 'women']\n",
      "------\n",
      "Quote 3\n",
      "Text: “Remember, if the time should come when you have to make a choice between what is right and what is easy, remember what happened to a boy who was good, and kind, and brave, because he strayed across the path of Lord Voldemort. Remember Cedric Diggory.”\n",
      "Author: J.K. Rowling\n",
      "Tags: ['integrity']\n",
      "------\n",
      "Quote 4\n",
      "Text: “I declare after all there is no enjoyment like reading! How much sooner one tires of any thing than of a book! -- When I have a house of my own, I shall be miserable if I have not an excellent library.”\n",
      "Author: Jane Austen\n",
      "Tags: ['books', 'library', 'reading']\n",
      "------\n",
      "Quote 5\n",
      "Text: “There are few people whom I really love, and still fewer of whom I think well. The more I see of the world, the more am I dissatisfied with it; and every day confirms my belief of the inconsistency of all human characters, and of the little dependence that can be placed on the appearance of merit or sense.”\n",
      "Author: Jane Austen\n",
      "Tags: ['elizabeth-bennet', 'jane-austen']\n",
      "------\n",
      "Quote 6\n",
      "Text: “Some day you will be old enough to start reading fairy tales again.”\n",
      "Author: C.S. Lewis\n",
      "Tags: ['age', 'fairytales', 'growing-up']\n",
      "------\n",
      "Quote 7\n",
      "Text: “We are not necessarily doubting that God will do the best for us; we are wondering how painful the best will turn out to be.”\n",
      "Author: C.S. Lewis\n",
      "Tags: ['god']\n",
      "------\n",
      "Quote 8\n",
      "Text: “The fear of death follows from the fear of life. A man who lives fully is prepared to die at any time.”\n",
      "Author: Mark Twain\n",
      "Tags: ['death', 'life']\n",
      "------\n",
      "Quote 9\n",
      "Text: “A lie can travel half way around the world while the truth is putting on its shoes.”\n",
      "Author: Mark Twain\n",
      "Tags: ['misattributed-mark-twain', 'truth']\n",
      "------\n",
      "Quote 10\n",
      "Text: “I believe in Christianity as I believe that the sun has risen: not only because I see it, but because by it I see everything else.”\n",
      "Author: C.S. Lewis\n",
      "Tags: ['christianity', 'faith', 'religion', 'sun']\n",
      "------\n"
     ]
    }
   ],
   "source": [
    "page_quotes9 = []\n",
    "\n",
    "for i, quote in enumerate(quote_blocks, start=1):\n",
    "    text = quote.find(\"span\", class_=\"text\").get_text(strip=True)\n",
    "    author = quote.find(\"small\", class_=\"author\").get_text(strip=True)\n",
    "    tags = [tag.get_text(strip=True) for tag in quote.find_all(\"a\", class_=\"tag\")]\n",
    "\n",
    "    print(f\"Quote {i}\")\n",
    "    print(f\"Text: {text}\")\n",
    "    print(f\"Author: {author}\")\n",
    "    print(f\"Tags: {tags}\")\n",
    "    print(\"------\")\n",
    "\n",
    "    page_quotes9.append({\n",
    "        \"text\": text,\n",
    "        \"author\": author,\n",
    "        \"tags\": tags\n",
    "    })\n"
   ]
  },
  {
   "cell_type": "code",
   "execution_count": 38,
   "id": "a6a03bb3",
   "metadata": {},
   "outputs": [
    {
     "name": "stdout",
     "output_type": "stream",
     "text": [
      "Next page path: /page/10/\n"
     ]
    }
   ],
   "source": [
    "next_btn = soup.find(\"li\", class_=\"next\")\n",
    "\n",
    "if next_btn:\n",
    "    next_page = next_btn.find(\"a\")[\"href\"]\n",
    "    print(\"Next page path:\", next_page)\n",
    "else:\n",
    "    next_page = None\n",
    "    print(\"No more pages.\")"
   ]
  },
  {
   "cell_type": "code",
   "execution_count": 39,
   "id": "852e2f58",
   "metadata": {},
   "outputs": [],
   "source": [
    "# Loading the second page using the path just extracted\n",
    "response = requests.get(url + next_page)\n",
    "soup = BeautifulSoup(response.text, \"html.parser\")"
   ]
  },
  {
   "cell_type": "code",
   "execution_count": 40,
   "id": "4200ff1f",
   "metadata": {},
   "outputs": [
    {
     "name": "stdout",
     "output_type": "stream",
     "text": [
      "Quotes found on page 10: 10\n"
     ]
    }
   ],
   "source": [
    "# Extract quote blocks from page 10\n",
    "quote_blocks = soup.find_all(\"div\", class_=\"quote\")\n",
    "\n",
    "print(f\"Quotes found on page 10: {len(quote_blocks)}\")"
   ]
  },
  {
   "cell_type": "code",
   "execution_count": 41,
   "id": "151bbb92",
   "metadata": {},
   "outputs": [
    {
     "name": "stdout",
     "output_type": "stream",
     "text": [
      "Quote 1\n",
      "Text: “The truth.\" Dumbledore sighed. \"It is a beautiful and terrible thing, and should therefore be treated with great caution.”\n",
      "Author: J.K. Rowling\n",
      "Tags: ['truth']\n",
      "------\n",
      "Quote 2\n",
      "Text: “I'm the one that's got to die when it's time for me to die, so let me live my life the way I want to.”\n",
      "Author: Jimi Hendrix\n",
      "Tags: ['death', 'life']\n",
      "------\n",
      "Quote 3\n",
      "Text: “To die will be an awfully big adventure.”\n",
      "Author: J.M. Barrie\n",
      "Tags: ['adventure', 'love']\n",
      "------\n",
      "Quote 4\n",
      "Text: “It takes courage to grow up and become who you really are.”\n",
      "Author: E.E. Cummings\n",
      "Tags: ['courage']\n",
      "------\n",
      "Quote 5\n",
      "Text: “But better to get hurt by the truth than comforted with a lie.”\n",
      "Author: Khaled Hosseini\n",
      "Tags: ['life']\n",
      "------\n",
      "Quote 6\n",
      "Text: “You never really understand a person until you consider things from his point of view... Until you climb inside of his skin and walk around in it.”\n",
      "Author: Harper Lee\n",
      "Tags: ['better-life-empathy']\n",
      "------\n",
      "Quote 7\n",
      "Text: “You have to write the book that wants to be written. And if the book will be too difficult for grown-ups, then you write it for children.”\n",
      "Author: Madeleine L'Engle\n",
      "Tags: ['books', 'children', 'difficult', 'grown-ups', 'write', 'writers', 'writing']\n",
      "------\n",
      "Quote 8\n",
      "Text: “Never tell the truth to people who are not worthy of it.”\n",
      "Author: Mark Twain\n",
      "Tags: ['truth']\n",
      "------\n",
      "Quote 9\n",
      "Text: “A person's a person, no matter how small.”\n",
      "Author: Dr. Seuss\n",
      "Tags: ['inspirational']\n",
      "------\n",
      "Quote 10\n",
      "Text: “... a mind needs books as a sword needs a whetstone, if it is to keep its edge.”\n",
      "Author: George R.R. Martin\n",
      "Tags: ['books', 'mind']\n",
      "------\n"
     ]
    }
   ],
   "source": [
    "page_quotes10 = []\n",
    "\n",
    "for i, quote in enumerate(quote_blocks, start=1):\n",
    "    text = quote.find(\"span\", class_=\"text\").get_text(strip=True)\n",
    "    author = quote.find(\"small\", class_=\"author\").get_text(strip=True)\n",
    "    tags = [tag.get_text(strip=True) for tag in quote.find_all(\"a\", class_=\"tag\")]\n",
    "\n",
    "    print(f\"Quote {i}\")\n",
    "    print(f\"Text: {text}\")\n",
    "    print(f\"Author: {author}\")\n",
    "    print(f\"Tags: {tags}\")\n",
    "    print(\"------\")\n",
    "\n",
    "    page_quotes10.append({\n",
    "        \"text\": text,\n",
    "        \"author\": author,\n",
    "        \"tags\": tags\n",
    "    })\n"
   ]
  },
  {
   "cell_type": "code",
   "execution_count": 42,
   "id": "9a8c5ed5",
   "metadata": {},
   "outputs": [
    {
     "name": "stdout",
     "output_type": "stream",
     "text": [
      "No more pages.\n"
     ]
    }
   ],
   "source": [
    "next_btn = soup.find(\"li\", class_=\"next\")\n",
    "\n",
    "if next_btn:\n",
    "    next_page = next_btn.find(\"a\")[\"href\"]\n",
    "    print(\"Next page path:\", next_page)\n",
    "else:\n",
    "    next_page = None\n",
    "    print(\"No more pages.\")"
   ]
  },
  {
   "cell_type": "markdown",
   "id": "c80951d6",
   "metadata": {},
   "source": [
    "#### TRANSFORMATION OF THE WEBSCRAPED DATA \n",
    "\n",
    "* Clean quote text, remove extra quotes, line breaks.\n",
    "* Normalize author names (title case).\n",
    "* Store tags as a comma-separated string or JSON array."
   ]
  },
  {
   "cell_type": "code",
   "execution_count": 45,
   "id": "3bcc58b0",
   "metadata": {},
   "outputs": [
    {
     "data": {
      "text/html": [
       "<div>\n",
       "<style scoped>\n",
       "    .dataframe tbody tr th:only-of-type {\n",
       "        vertical-align: middle;\n",
       "    }\n",
       "\n",
       "    .dataframe tbody tr th {\n",
       "        vertical-align: top;\n",
       "    }\n",
       "\n",
       "    .dataframe thead th {\n",
       "        text-align: right;\n",
       "    }\n",
       "</style>\n",
       "<table border=\"1\" class=\"dataframe\">\n",
       "  <thead>\n",
       "    <tr style=\"text-align: right;\">\n",
       "      <th></th>\n",
       "      <th>text</th>\n",
       "      <th>author</th>\n",
       "      <th>tags</th>\n",
       "    </tr>\n",
       "  </thead>\n",
       "  <tbody>\n",
       "    <tr>\n",
       "      <th>0</th>\n",
       "      <td>“The world as we have created it is a process ...</td>\n",
       "      <td>Albert Einstein</td>\n",
       "      <td>[change, deep-thoughts, thinking, world]</td>\n",
       "    </tr>\n",
       "    <tr>\n",
       "      <th>1</th>\n",
       "      <td>“It is our choices, Harry, that show what we t...</td>\n",
       "      <td>J.K. Rowling</td>\n",
       "      <td>[abilities, choices]</td>\n",
       "    </tr>\n",
       "    <tr>\n",
       "      <th>2</th>\n",
       "      <td>“There are only two ways to live your life. On...</td>\n",
       "      <td>Albert Einstein</td>\n",
       "      <td>[inspirational, life, live, miracle, miracles]</td>\n",
       "    </tr>\n",
       "    <tr>\n",
       "      <th>3</th>\n",
       "      <td>“The person, be it gentleman or lady, who has ...</td>\n",
       "      <td>Jane Austen</td>\n",
       "      <td>[aliteracy, books, classic, humor]</td>\n",
       "    </tr>\n",
       "    <tr>\n",
       "      <th>4</th>\n",
       "      <td>“Imperfection is beauty, madness is genius and...</td>\n",
       "      <td>Marilyn Monroe</td>\n",
       "      <td>[be-yourself, inspirational]</td>\n",
       "    </tr>\n",
       "  </tbody>\n",
       "</table>\n",
       "</div>"
      ],
      "text/plain": [
       "                                                text           author  \\\n",
       "0  “The world as we have created it is a process ...  Albert Einstein   \n",
       "1  “It is our choices, Harry, that show what we t...     J.K. Rowling   \n",
       "2  “There are only two ways to live your life. On...  Albert Einstein   \n",
       "3  “The person, be it gentleman or lady, who has ...      Jane Austen   \n",
       "4  “Imperfection is beauty, madness is genius and...   Marilyn Monroe   \n",
       "\n",
       "                                             tags  \n",
       "0        [change, deep-thoughts, thinking, world]  \n",
       "1                            [abilities, choices]  \n",
       "2  [inspirational, life, live, miracle, miracles]  \n",
       "3              [aliteracy, books, classic, humor]  \n",
       "4                    [be-yourself, inspirational]  "
      ]
     },
     "execution_count": 45,
     "metadata": {},
     "output_type": "execute_result"
    }
   ],
   "source": [
    "# Combining all Page-Quotes lists into one\n",
    "all_quotes = (\n",
    "    page_quotes +\n",
    "    page_quotes2 +\n",
    "    page_quotes3 +\n",
    "    page_quotes4 +\n",
    "    page_quotes5 +\n",
    "    page_quotes6 +\n",
    "    page_quotes7 +\n",
    "    page_quotes8 +\n",
    "    page_quotes9 +\n",
    "    page_quotes10\n",
    ")\n",
    "\n",
    "# Convert to DataFrame\n",
    "import pandas as pd\n",
    "\n",
    "df_quotes = pd.DataFrame(all_quotes)\n",
    "df_quotes.head()\n",
    "\n"
   ]
  },
  {
   "cell_type": "markdown",
   "id": "c569290b",
   "metadata": {},
   "source": [
    "##### Step 1: Cleaning quote text"
   ]
  },
  {
   "cell_type": "code",
   "execution_count": 46,
   "id": "c00e0110",
   "metadata": {},
   "outputs": [],
   "source": [
    "\n",
    "# Cleaning the text data\n",
    "df = df_quotes.copy()\n",
    "df['text'] = df['text'].str.replace('\\n', ' ', regex=False)\n",
    "df['text'] = df['text'].str.replace('“', '', regex=False)\n",
    "df['text'] = df['text'].str.replace('”', '', regex=False)\n",
    "df['text'] = df['text'].str.strip()\n"
   ]
  },
  {
   "cell_type": "markdown",
   "id": "42f5ae6b",
   "metadata": {},
   "source": [
    "##### Step 2: Normalizing author Names"
   ]
  },
  {
   "cell_type": "code",
   "execution_count": 47,
   "id": "a96d0b6c",
   "metadata": {},
   "outputs": [],
   "source": [
    "# Normalizing author names to title case\n",
    "df['author'] = df['author'].str.title()"
   ]
  },
  {
   "cell_type": "code",
   "execution_count": 48,
   "id": "b71124c8",
   "metadata": {},
   "outputs": [
    {
     "data": {
      "text/html": [
       "<div>\n",
       "<style scoped>\n",
       "    .dataframe tbody tr th:only-of-type {\n",
       "        vertical-align: middle;\n",
       "    }\n",
       "\n",
       "    .dataframe tbody tr th {\n",
       "        vertical-align: top;\n",
       "    }\n",
       "\n",
       "    .dataframe thead th {\n",
       "        text-align: right;\n",
       "    }\n",
       "</style>\n",
       "<table border=\"1\" class=\"dataframe\">\n",
       "  <thead>\n",
       "    <tr style=\"text-align: right;\">\n",
       "      <th></th>\n",
       "      <th>text</th>\n",
       "      <th>author</th>\n",
       "      <th>tags</th>\n",
       "    </tr>\n",
       "  </thead>\n",
       "  <tbody>\n",
       "    <tr>\n",
       "      <th>0</th>\n",
       "      <td>The world as we have created it is a process o...</td>\n",
       "      <td>Albert Einstein</td>\n",
       "      <td>change, deep-thoughts, thinking, world</td>\n",
       "    </tr>\n",
       "    <tr>\n",
       "      <th>1</th>\n",
       "      <td>It is our choices, Harry, that show what we tr...</td>\n",
       "      <td>J.K. Rowling</td>\n",
       "      <td>abilities, choices</td>\n",
       "    </tr>\n",
       "    <tr>\n",
       "      <th>2</th>\n",
       "      <td>There are only two ways to live your life. One...</td>\n",
       "      <td>Albert Einstein</td>\n",
       "      <td>inspirational, life, live, miracle, miracles</td>\n",
       "    </tr>\n",
       "    <tr>\n",
       "      <th>3</th>\n",
       "      <td>The person, be it gentleman or lady, who has n...</td>\n",
       "      <td>Jane Austen</td>\n",
       "      <td>aliteracy, books, classic, humor</td>\n",
       "    </tr>\n",
       "    <tr>\n",
       "      <th>4</th>\n",
       "      <td>Imperfection is beauty, madness is genius and ...</td>\n",
       "      <td>Marilyn Monroe</td>\n",
       "      <td>be-yourself, inspirational</td>\n",
       "    </tr>\n",
       "    <tr>\n",
       "      <th>5</th>\n",
       "      <td>Try not to become a man of success. Rather bec...</td>\n",
       "      <td>Albert Einstein</td>\n",
       "      <td>adulthood, success, value</td>\n",
       "    </tr>\n",
       "    <tr>\n",
       "      <th>6</th>\n",
       "      <td>It is better to be hated for what you are than...</td>\n",
       "      <td>André Gide</td>\n",
       "      <td>life, love</td>\n",
       "    </tr>\n",
       "    <tr>\n",
       "      <th>7</th>\n",
       "      <td>I have not failed. I've just found 10,000 ways...</td>\n",
       "      <td>Thomas A. Edison</td>\n",
       "      <td>edison, failure, inspirational, paraphrased</td>\n",
       "    </tr>\n",
       "    <tr>\n",
       "      <th>8</th>\n",
       "      <td>A woman is like a tea bag; you never know how ...</td>\n",
       "      <td>Eleanor Roosevelt</td>\n",
       "      <td>misattributed-eleanor-roosevelt</td>\n",
       "    </tr>\n",
       "    <tr>\n",
       "      <th>9</th>\n",
       "      <td>A day without sunshine is like, you know, night.</td>\n",
       "      <td>Steve Martin</td>\n",
       "      <td>humor, obvious, simile</td>\n",
       "    </tr>\n",
       "  </tbody>\n",
       "</table>\n",
       "</div>"
      ],
      "text/plain": [
       "                                                text             author  \\\n",
       "0  The world as we have created it is a process o...    Albert Einstein   \n",
       "1  It is our choices, Harry, that show what we tr...       J.K. Rowling   \n",
       "2  There are only two ways to live your life. One...    Albert Einstein   \n",
       "3  The person, be it gentleman or lady, who has n...        Jane Austen   \n",
       "4  Imperfection is beauty, madness is genius and ...     Marilyn Monroe   \n",
       "5  Try not to become a man of success. Rather bec...    Albert Einstein   \n",
       "6  It is better to be hated for what you are than...         André Gide   \n",
       "7  I have not failed. I've just found 10,000 ways...   Thomas A. Edison   \n",
       "8  A woman is like a tea bag; you never know how ...  Eleanor Roosevelt   \n",
       "9   A day without sunshine is like, you know, night.       Steve Martin   \n",
       "\n",
       "                                           tags  \n",
       "0        change, deep-thoughts, thinking, world  \n",
       "1                            abilities, choices  \n",
       "2  inspirational, life, live, miracle, miracles  \n",
       "3              aliteracy, books, classic, humor  \n",
       "4                    be-yourself, inspirational  \n",
       "5                     adulthood, success, value  \n",
       "6                                    life, love  \n",
       "7   edison, failure, inspirational, paraphrased  \n",
       "8               misattributed-eleanor-roosevelt  \n",
       "9                        humor, obvious, simile  "
      ]
     },
     "execution_count": 48,
     "metadata": {},
     "output_type": "execute_result"
    }
   ],
   "source": [
    "# converting tags to a comma-separated string\n",
    "df['tags'] = df['tags'].apply(lambda tag_list: ', '.join(tag_list))\n",
    "\n",
    "df.head(10)"
   ]
  },
  {
   "cell_type": "markdown",
   "id": "d41e899e",
   "metadata": {},
   "source": [
    "#### Designing schema on PostgreSQL \n",
    "\n",
    "* Define the Table Schema in SQL\n",
    "* Insert Data into PostgreSQL Using psycopg2"
   ]
  },
  {
   "cell_type": "code",
   "execution_count": 58,
   "id": "6a5a5e5b",
   "metadata": {},
   "outputs": [],
   "source": [
    "# Connecting to PostgreSQL\n",
    "import psycopg2"
   ]
  },
  {
   "cell_type": "code",
   "execution_count": 59,
   "id": "dd458999",
   "metadata": {},
   "outputs": [
    {
     "name": "stdout",
     "output_type": "stream",
     "text": [
      "Connection successful!\n"
     ]
    }
   ],
   "source": [
    "conn = psycopg2.connect(\n",
    "    dbname=\"quotes_db\",      \n",
    "    user=\"postgres\",         \n",
    "    password=\"12345\",\n",
    "    host=\"127.0.0.1\",        \n",
    "    port=\"5432\"      \n",
    ")\n",
    "cur = conn.cursor()\n",
    "\n",
    "print(\"Connection successful!\")\n"
   ]
  },
  {
   "cell_type": "markdown",
   "id": "8f59d7af",
   "metadata": {},
   "source": [
    "##### Inserting the Cleaned Data Into PostgreSQL"
   ]
  },
  {
   "cell_type": "code",
   "execution_count": 60,
   "id": "76780a44",
   "metadata": {},
   "outputs": [
    {
     "name": "stdout",
     "output_type": "stream",
     "text": [
      "Data inserted successfully!\n"
     ]
    }
   ],
   "source": [
    "# Inserting each quote into the PostgreSQL table\n",
    "for _, row in df.iterrows():\n",
    "    cur.execute(\"\"\"\n",
    "        INSERT INTO quotes (text, author, tags)\n",
    "        VALUES (%s, %s, %s)\n",
    "    \"\"\", (row['text'], row['author'], row['tags']))\n",
    "\n",
    "# Save the changes\n",
    "conn.commit()\n",
    "\n",
    "print(\"Data inserted successfully!\")\n"
   ]
  },
  {
   "cell_type": "code",
   "execution_count": 61,
   "id": "649d4885",
   "metadata": {},
   "outputs": [
    {
     "name": "stdout",
     "output_type": "stream",
     "text": [
      "Connection closed.\n"
     ]
    }
   ],
   "source": [
    "cur.close()\n",
    "conn.close()\n",
    "print(\"Connection closed.\")"
   ]
  },
  {
   "cell_type": "markdown",
   "id": "36de88c0",
   "metadata": {},
   "source": [
    "#### ANALYSIS\n",
    "\n",
    "* Task 1: Top 5 Most Quoted Authors"
   ]
  },
  {
   "cell_type": "code",
   "execution_count": 56,
   "id": "55956c08",
   "metadata": {},
   "outputs": [
    {
     "name": "stdout",
     "output_type": "stream",
     "text": [
      "Top 5 Most Quoted Authors:\n",
      "author\n",
      "Albert Einstein    10\n",
      "J.K. Rowling        9\n",
      "Marilyn Monroe      7\n",
      "Dr. Seuss           6\n",
      "Mark Twain          6\n",
      "Name: count, dtype: int64\n"
     ]
    }
   ],
   "source": [
    "# Top 5 most quoted authors\n",
    "top_authors = df['author'].value_counts().head(5)\n",
    "print(\"Top 5 Most Quoted Authors:\")\n",
    "print(top_authors)\n"
   ]
  },
  {
   "cell_type": "markdown",
   "id": "0495e939",
   "metadata": {},
   "source": [
    "##### Task 2: Count total quotes and distinct tags"
   ]
  },
  {
   "cell_type": "code",
   "execution_count": 62,
   "id": "1f1510f8",
   "metadata": {},
   "outputs": [
    {
     "name": "stdout",
     "output_type": "stream",
     "text": [
      "Total Quotes: 100\n",
      "Distinct Tags: 138\n"
     ]
    }
   ],
   "source": [
    "# Total number of quotes\n",
    "total_quotes = len(df)\n",
    "\n",
    "# Make sure tags are lists\n",
    "df['tags'] = df['tags'].apply(lambda x: x.split(', ') if isinstance(x, str) else x)\n",
    "\n",
    "# Flatten all tags into one list and count unique\n",
    "all_tags = df['tags'].explode()\n",
    "distinct_tag_count = all_tags.nunique()\n",
    "\n",
    "print(f\"Total Quotes: {total_quotes}\")\n",
    "print(f\"Distinct Tags: {distinct_tag_count}\")\n"
   ]
  },
  {
   "cell_type": "markdown",
   "id": "5c9c08c4",
   "metadata": {},
   "source": [
    "##### Task 3. Find Quotes with Tag \"life\" or \"inspirational\""
   ]
  },
  {
   "cell_type": "code",
   "execution_count": 63,
   "id": "6610dd89",
   "metadata": {},
   "outputs": [
    {
     "data": {
      "text/html": [
       "<div>\n",
       "<style scoped>\n",
       "    .dataframe tbody tr th:only-of-type {\n",
       "        vertical-align: middle;\n",
       "    }\n",
       "\n",
       "    .dataframe tbody tr th {\n",
       "        vertical-align: top;\n",
       "    }\n",
       "\n",
       "    .dataframe thead th {\n",
       "        text-align: right;\n",
       "    }\n",
       "</style>\n",
       "<table border=\"1\" class=\"dataframe\">\n",
       "  <thead>\n",
       "    <tr style=\"text-align: right;\">\n",
       "      <th></th>\n",
       "      <th>text</th>\n",
       "      <th>author</th>\n",
       "      <th>tags</th>\n",
       "    </tr>\n",
       "  </thead>\n",
       "  <tbody>\n",
       "    <tr>\n",
       "      <th>2</th>\n",
       "      <td>There are only two ways to live your life. One...</td>\n",
       "      <td>Albert Einstein</td>\n",
       "      <td>[inspirational, life, live, miracle, miracles]</td>\n",
       "    </tr>\n",
       "    <tr>\n",
       "      <th>4</th>\n",
       "      <td>Imperfection is beauty, madness is genius and ...</td>\n",
       "      <td>Marilyn Monroe</td>\n",
       "      <td>[be-yourself, inspirational]</td>\n",
       "    </tr>\n",
       "    <tr>\n",
       "      <th>6</th>\n",
       "      <td>It is better to be hated for what you are than...</td>\n",
       "      <td>André Gide</td>\n",
       "      <td>[life, love]</td>\n",
       "    </tr>\n",
       "    <tr>\n",
       "      <th>7</th>\n",
       "      <td>I have not failed. I've just found 10,000 ways...</td>\n",
       "      <td>Thomas A. Edison</td>\n",
       "      <td>[edison, failure, inspirational, paraphrased]</td>\n",
       "    </tr>\n",
       "    <tr>\n",
       "      <th>10</th>\n",
       "      <td>This life is what you make it. No matter what,...</td>\n",
       "      <td>Marilyn Monroe</td>\n",
       "      <td>[friends, heartbreak, inspirational, life, lov...</td>\n",
       "    </tr>\n",
       "  </tbody>\n",
       "</table>\n",
       "</div>"
      ],
      "text/plain": [
       "                                                 text            author  \\\n",
       "2   There are only two ways to live your life. One...   Albert Einstein   \n",
       "4   Imperfection is beauty, madness is genius and ...    Marilyn Monroe   \n",
       "6   It is better to be hated for what you are than...        André Gide   \n",
       "7   I have not failed. I've just found 10,000 ways...  Thomas A. Edison   \n",
       "10  This life is what you make it. No matter what,...    Marilyn Monroe   \n",
       "\n",
       "                                                 tags  \n",
       "2      [inspirational, life, live, miracle, miracles]  \n",
       "4                        [be-yourself, inspirational]  \n",
       "6                                        [life, love]  \n",
       "7       [edison, failure, inspirational, paraphrased]  \n",
       "10  [friends, heartbreak, inspirational, life, lov...  "
      ]
     },
     "execution_count": 63,
     "metadata": {},
     "output_type": "execute_result"
    }
   ],
   "source": [
    "# Filter quotes that contain either 'life' or 'inspirational'\n",
    "filtered_quotes = df[df['tags'].apply(lambda tags: 'life' in tags or 'inspirational' in tags)]\n",
    "\n",
    "filtered_quotes[['text', 'author', 'tags']].head()\n"
   ]
  },
  {
   "cell_type": "markdown",
   "id": "5183f2a8",
   "metadata": {},
   "source": [
    "##### Task 4. Count the number of quotes per tag hint: explode tags"
   ]
  },
  {
   "cell_type": "code",
   "execution_count": 64,
   "id": "146dfad7",
   "metadata": {},
   "outputs": [
    {
     "name": "stdout",
     "output_type": "stream",
     "text": [
      "Top tags by number of quotes:\n",
      "tags\n",
      "love             14\n",
      "inspirational    13\n",
      "life             13\n",
      "humor            12\n",
      "books            11\n",
      "Name: count, dtype: int64\n"
     ]
    }
   ],
   "source": [
    "# Count the number of quotes per tag\n",
    "df['tags'] = df['tags'].apply(lambda x: x.split(', ') if isinstance(x, str) else x)\n",
    "\n",
    "# Explode the list of tags so each tag has its own row\n",
    "exploded_tags = df.explode('tags')\n",
    "tag_counts = exploded_tags['tags'].value_counts()\n",
    "\n",
    "print(\"Top tags by number of quotes:\")\n",
    "print(tag_counts.head())"
   ]
  },
  {
   "cell_type": "markdown",
   "id": "7d9a1d9a",
   "metadata": {},
   "source": [
    "##### Task 5.  Find Authors With More Than One Quote"
   ]
  },
  {
   "cell_type": "code",
   "execution_count": 65,
   "id": "b2431cca",
   "metadata": {},
   "outputs": [
    {
     "name": "stdout",
     "output_type": "stream",
     "text": [
      "Authors with more than one quote:\n",
      "author\n",
      "Albert Einstein        10\n",
      "J.K. Rowling            9\n",
      "Marilyn Monroe          7\n",
      "Dr. Seuss               6\n",
      "Mark Twain              6\n",
      "C.S. Lewis              5\n",
      "Jane Austen             5\n",
      "Bob Marley              3\n",
      "Eleanor Roosevelt       2\n",
      "Charles Bukowski        2\n",
      "Suzanne Collins         2\n",
      "George R.R. Martin      2\n",
      "Ralph Waldo Emerson     2\n",
      "Mother Teresa           2\n",
      "Ernest Hemingway        2\n",
      "Name: count, dtype: int64\n"
     ]
    }
   ],
   "source": [
    "multi_quote_authors = df['author'].value_counts()\n",
    "multi_quote_authors = multi_quote_authors[multi_quote_authors > 1]\n",
    "\n",
    "print(\"Authors with more than one quote:\")\n",
    "print(multi_quote_authors)\n"
   ]
  },
  {
   "cell_type": "markdown",
   "id": "2a26c60b",
   "metadata": {},
   "source": [
    "#### Export Results to CSV "
   ]
  },
  {
   "cell_type": "code",
   "execution_count": 67,
   "id": "f5ae85f5",
   "metadata": {},
   "outputs": [],
   "source": [
    "# Export the cleaned quotes\n",
    "df.to_csv(\"cleaned_quotes.csv\", index=False)\n",
    "\n",
    "# Export tag counts\n",
    "tag_counts.to_csv(\"tag_counts.csv\")\n",
    "\n",
    "# Export authors with more than one quote\n",
    "multi_quote_authors.to_csv(\"multi_quote_authors.csv\")\n"
   ]
  }
 ],
 "metadata": {
  "kernelspec": {
   "display_name": "venv",
   "language": "python",
   "name": "python3"
  },
  "language_info": {
   "codemirror_mode": {
    "name": "ipython",
    "version": 3
   },
   "file_extension": ".py",
   "mimetype": "text/x-python",
   "name": "python",
   "nbconvert_exporter": "python",
   "pygments_lexer": "ipython3",
   "version": "3.12.4"
  }
 },
 "nbformat": 4,
 "nbformat_minor": 5
}
